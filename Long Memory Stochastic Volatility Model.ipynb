{
 "cells": [
  {
   "cell_type": "code",
   "execution_count": null,
   "metadata": {},
   "outputs": [],
   "source": [
    "from fbm import fbm, fgn, times\n",
    "import numpy as np \n",
    "from scipy.stats import norm \n",
    "import matplotlib.pyplot as plt\n",
    "import time as time"
   ]
  },
  {
   "cell_type": "markdown",
   "metadata": {},
   "source": [
    "## Fractional Brownian Motion \n",
    "\n",
    "* Module for modeling fractional brownian motion \n",
    "* Vary over the hurst to see the results of the different sample paths \n",
    "* Persistant and anti-persistant behaviors"
   ]
  },
  {
   "cell_type": "code",
   "execution_count": null,
   "metadata": {},
   "outputs": [],
   "source": [
    "# Generate a fBm realization\n",
    "fbm_sample = fbm(n=1024, hurst=0.75, length=1, method='daviesharte')\n",
    "brownian_sample = fbm(n=1024, hurst=0.5, length = 1, method='daviesharte')\n",
    "\n",
    "# Generate a fGn realization\n",
    "fgn_sample = fgn(n=1024, hurst=0.75, length=1, method='daviesharte') #Sampling a Gaussian at each time index\n",
    "\n",
    "# Get the times associated with the fBm\n",
    "t_values = times(n=1024, length=1)"
   ]
  },
  {
   "cell_type": "code",
   "execution_count": null,
   "metadata": {},
   "outputs": [],
   "source": [
    "plt.plot(fbm_sample)\n",
    "plt.show()"
   ]
  },
  {
   "cell_type": "code",
   "execution_count": null,
   "metadata": {},
   "outputs": [],
   "source": [
    "hursts = np.linspace(0.5, 0.9, 5) #range of hurst parameters \n",
    "fig, ax = plt.subplots() \n",
    "\n",
    "for i in range(5): \n",
    "    fbm_sample = fbm(n = 1024, hurst = hursts[i], length = 1, method = 'daviesharte')\n",
    "    ax.plot(fbm_sample, label = hursts[i])\n",
    "    ax.legend()\n",
    "    "
   ]
  },
  {
   "cell_type": "markdown",
   "metadata": {},
   "source": [
    "## Things I need to figure out \n",
    "\n",
    "### How to train? \n",
    "- Train the neural network using the implied volatilities generated\n",
    "- Need to put it in the correct format.\n",
    "\n",
    "\n",
    "### What we have left to do? \n",
    "- This is with respect to Blanka or Bayer. And the optimization after the training to solve for something. Forgeter what (look up). \n",
    "- Levenberg Marquadt.\n",
    "- BFGS etc etc other methods\n",
    "\n",
    "- The numpy array needs to be complete. I think the only one to try is for Bayer. Can't blanka it would take forever (see next point for Blanka). \n",
    "- Might be able to use Blanka's method if we are able to generate data with GAN\n",
    "- Also need to implement GAN for checking if it gets us better results.\n",
    "\n",
    "### How to test? \n",
    "- Use the trained neural network to figure out the pricing functional \n",
    "- Performance evaluation compare the performance evaluation with other models \n",
    "    - long memory model bayer\n",
    "    - long memory model blanka \n",
    "  \n",
    "- Time it takes for monte carlo vs GAN performance. "
   ]
  },
  {
   "cell_type": "code",
   "execution_count": null,
   "metadata": {},
   "outputs": [],
   "source": [
    "L = 255 #no. of discrete sampels of the brownian motion\n",
    "N = 50 #no. of sample paths to average the paths over\n",
    "NN = int(14) #no. data points per parameter (14**4 = 38,416)\n",
    "\n",
    "##Grid for strikes and maturities this is taken directly from blanka \n",
    "strikes=np.array([0.5,0.6,0.7,0.8,0.9,1.0,1.1,1.2,1.3,1.4,1.5 ])\n",
    "maturities=np.array([0.1,0.3,0.6,0.9,1.2,1.5,1.8,2.0 ])\n",
    "\n",
    "#Model parameter ranges \n",
    "alb, aub = -0.003, -0.001 \n",
    "blb, bub = 0.1, 0.5\n",
    "rlb, rub = 0.01, 0.04\n",
    "hlb, hub = 0.51, 89 \n",
    "\n",
    "A = np.arange(alb, aub, (aub - alb)/NN)\n",
    "V = np.arange(blb, bub, (bub - blb)/NN)\n",
    "R = np.arange(rlb, rub, (rub - rlb)/NN)/L #only divide by L here.\n",
    "H = np.arange(hlb, hub, (hub - hlb)/NN)"
   ]
  },
  {
   "cell_type": "code",
   "execution_count": null,
   "metadata": {},
   "outputs": [],
   "source": [
    "Y = np.zeros(L) #Volatility process \n",
    "S = np.zeros((L, N)) #Initialize the stock price array\n",
    "S[0] = 100. #initial stock price: normalize? \n",
    "K = 105. #strike price: normalize? \n",
    "T = 1 #Annual Maturity\n",
    "T_data = np.zeros((NN**4 , 6)) #Initial data array"
   ]
  },
  {
   "cell_type": "code",
   "execution_count": null,
   "metadata": {},
   "outputs": [],
   "source": [
    "start_time = time.time()\n",
    "for nnh in range(NN): \n",
    "    #hurst parameter for the process coefficient\n",
    "    h = H[nnh]\n",
    "    disp=str(nnh+1)+\"/\"+str(NN)+\"  \"+ \"Hurst\" +\" \"+ str(h)\n",
    "    print (disp, end=\"\\r\")\n",
    "    \n",
    "    for nnr in range(NN): \n",
    "        #risk-Free interest rate for interval since it is annual_rate/L\n",
    "        r = R[nnr]\n",
    "        \n",
    "        for nnb in range(NN): \n",
    "            #volvol process coefficient \n",
    "            b = V[nnb]\n",
    "\n",
    "            for nna in range(NN): \n",
    "                #diffusion process coefficient \n",
    "                a = A[nna]\n",
    "\n",
    "                for j in range(N): \n",
    "                    #loop for taking multiple sample paths\n",
    "                    #sample the fBm with corresponding h\n",
    "                    B = fbm(n=L, hurst=h, length=1, method='daviesharte') #changed the n to 500 \n",
    "\n",
    "                    for i in range(1, L): \n",
    "                        #Euler's approximation to calculate the asset price sequence\n",
    "                        Y[i] =  Y[i-1]*(1 + a) + b*(B[i] - B[i-1]) \n",
    "                        #The 2D array S has a single sample path in each column. The last row = stock price at maturity. \n",
    "                        S[i, j] =  S[i-1, j]*(1 + r) + np.exp(Y[i])*np.random.normal(0,1) \n",
    "\n",
    "                    #Store the option prices for the 50 sample paths P.shape is (50, ) \n",
    "                    P = S[-1]-K\n",
    "                PT_call = np.maximum(P, 0)\n",
    "                PT_put = np.maximum(-P, 0)\n",
    "\n",
    "                #Check for if any pricing negative.  \n",
    "                if not(all(PT_call >= 0) and all(PT_put >= 0)): \n",
    "                    raise ValueError('Option price is negative')\n",
    "\n",
    "                #Pricing function discounting using the risk free interest rate     \n",
    "                P_call = np.mean(PT_call)*np.exp(-r*L*T) #European call option  \n",
    "                P_put = np.mean(PT_put)*np.exp(-r*L*T) #European put option\n",
    "\n",
    "                #Data array for the training samples (have to include this across all strikes and maturities)\n",
    "                T_data[nna + nnb*NN + nnr*NN**2 + nnh*NN**3]= np.array([a, b, r*L, h, P_call, P_put]) #have to fix this the indexing \n",
    "end_time = time.time()"
   ]
  },
  {
   "cell_type": "code",
   "execution_count": null,
   "metadata": {},
   "outputs": [],
   "source": [
    "print(\"Total time taken to generate \" +str(NN**4)+ \" samples:\", (end_time - start_time)/3600, 'hrs')"
   ]
  },
  {
   "cell_type": "code",
   "execution_count": null,
   "metadata": {},
   "outputs": [],
   "source": [
    "float_formatter = '{:.4f}'.format\n",
    "np.set_printoptions(formatter={'float_kind':float_formatter})\n",
    "\n",
    "print('Strike Price='+str(K))\n",
    "print('Stock Price='+str(S[0, 0]))\n",
    "print('Annual Maturity') #Introduce a control for this so that I can genrate maturity between n years\n",
    "\n",
    "print('[[ a      b      r      H      Call    Put]')\n",
    "print(T_data[:20])"
   ]
  },
  {
   "cell_type": "markdown",
   "metadata": {},
   "source": [
    "## Euler Approximation "
   ]
  },
  {
   "cell_type": "code",
   "execution_count": 10,
   "metadata": {},
   "outputs": [],
   "source": [
    "a = -0.002#has to be negative (mean-reverting property)\n",
    "b = 0.25 #variable \n",
    "r = 0.02 #annual risk free interest rate \n",
    "L = 500 #time intervals in a year\n",
    "B = fbm(n=L, hurst=0.85, length=1, method='daviesharte')   \n",
    "S = np.zeros(L)\n",
    "S[0] = 100 #stock price \n",
    "Y = np.zeros(L)\n",
    "for i in np.arange(1, L): \n",
    "    Y[i] =  Y[i-1]*(1 + a) + b*(B[i] - B[i-1]) \n",
    "    S[i] =  S[i-1]*(1 + r/L) + np.exp(Y[i])*np.random.normal(0,1)"
   ]
  },
  {
   "cell_type": "code",
   "execution_count": 11,
   "metadata": {},
   "outputs": [
    {
     "data": {
      "image/png": "[encoded data removed]",
      "text/plain": [
       "<Figure size 432x288 with 1 Axes>"
      ]
     },
     "metadata": {
      "needs_background": "light"
     },
     "output_type": "display_data"
    }
   ],
   "source": [
    "plt.plot(S)\n",
    "plt.show()"
   ]
  },
  {
   "cell_type": "markdown",
   "metadata": {},
   "source": [
    "### Generate the pathological cases for the model  \n",
    "\n",
    "* Play around the units. I had to divide the r by L. \n",
    "    * If r is the annual rate, then r/L is the interval adjusted rate \n",
    "    * When we discount we also have to divide the the time index by L. Otherwise it diverges. (Why?)\n",
    "\n",
    "* What creates these pathological cases? What is the reasoning behind them?\n",
    "* Does discounting help? No, there is linear behavior at the end. \n",
    "* How does this linear behavior come around? Can we explain it? \n",
    "\n",
    "### Using pandas to handle big data frames \n",
    "\n",
    "* Go thru a tutorial for the pandas data frame.  \n",
    "* How to save a numpy array to use in another file? \n",
    "* Read up on persistant and anti-persistant proceseses."
   ]
  },
  {
   "cell_type": "markdown",
   "metadata": {},
   "source": [
    "### Post-processing Step \n",
    "\n",
    "* Calculating the implied volatility"
   ]
  },
  {
   "cell_type": "code",
   "execution_count": null,
   "metadata": {},
   "outputs": [],
   "source": [
    "def black_scholes(S0, K, r, T, s): \n",
    "    \"\"\"Calculates the black scholes pricing for european call options. \n",
    "    As well as the first derivative w.r.t implied volatility.  \n",
    "    \n",
    "    Inputs: S0 = stock price \n",
    "            K  = strike price \n",
    "            r  = risk-free interest rate \n",
    "            T  = time to maturity in years  \n",
    "            s  = volatility (standard deviation of log returns) \n",
    "    Outputs: \n",
    "            C0 = price of the call option\n",
    "    \"\"\"\n",
    "    \n",
    "    X = np.log(S0/K)\n",
    "    D = s*np.sqrt(T)\n",
    "    K0 = K*np.exp(-r*T)\n",
    "    \n",
    "    d1 = (X + (r + s**2/2)*T)/D\n",
    "    dd1 = -(X+r*T)/(s*D) + np.sqrt(T)\n",
    "#     d2 = (X + (r - s**2/2)*T)/D\n",
    "    d2 = d1 - D\n",
    "#     dd2 = -(X+r*T)/(s*D)\n",
    "    dd2 = dd1 - np.sqrt(T)\n",
    "\n",
    "    C0 = S0*norm.cdf(d1) - K0*norm.cdf(d2)\n",
    "    dC0 = S0*norm.pdf(d1)*dd1 + K0*norm.pdf(d2)*dd2\n",
    "    return C0, dC0 \n",
    "    \n",
    "    \n",
    "def calculate_IV(C0, S0, K, r, T):\n",
    "    \"\"\" Calculates the implied volatility for given inputs using Newton's Method\n",
    "    Inputs: C0 = BScholes calculated option price \n",
    "            S0 = stock price\n",
    "            K  = strike price\n",
    "            r  = risk-free interest rate \n",
    "            T  = time to maturity in years\n",
    "    Output: \n",
    "            s = implied volatility\"\"\"\n",
    "    tolerance = 1e-5 #0.1 percent accuracy \n",
    "    s = np.random.uniform(0.01, 0.5) # initializing volatility between 1% and 50% \n",
    "    while True: \n",
    "        f, df = black_scholes(S0, K, r, T, s)\n",
    "        if df == 0: \n",
    "            print('derivative is 0')\n",
    "            return s \n",
    "        s1 = s - (C0-f)/df \n",
    "        t = np.abs(s1 - s)\n",
    "        if t < tolerance: \n",
    "            break \n",
    "        s = s1 \n",
    "    return s      "
   ]
  }
 ],
 "metadata": {
  "kernelspec": {
   "display_name": "Python 3",
   "language": "python",
   "name": "python3"
  },
  "language_info": {
   "codemirror_mode": {
    "name": "ipython",
    "version": 3
   },
   "file_extension": ".py",
   "mimetype": "text/x-python",
   "name": "python",
   "nbconvert_exporter": "python",
   "pygments_lexer": "ipython3",
   "version": "3.7.3"
  }
 },
 "nbformat": 4,
 "nbformat_minor": 2
}
